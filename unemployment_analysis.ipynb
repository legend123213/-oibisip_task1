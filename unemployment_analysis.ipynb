{
 "cells": [
  {
   "cell_type": "code",
   "execution_count": 1,
   "metadata": {},
   "outputs": [
    {
     "data": {
      "text/html": [
       "        <script type=\"text/javascript\">\n",
       "        window.PlotlyConfig = {MathJaxConfig: 'local'};\n",
       "        if (window.MathJax && window.MathJax.Hub && window.MathJax.Hub.Config) {window.MathJax.Hub.Config({SVG: {font: \"STIX-Web\"}});}\n",
       "        if (typeof require !== 'undefined') {\n",
       "        require.undef(\"plotly\");\n",
       "        requirejs.config({\n",
       "            paths: {\n",
       "                'plotly': ['https://cdn.plot.ly/plotly-2.25.2.min']\n",
       "            }\n",
       "        });\n",
       "        require(['plotly'], function(Plotly) {\n",
       "            window._Plotly = Plotly;\n",
       "        });\n",
       "        }\n",
       "        </script>\n",
       "        "
      ]
     },
     "metadata": {},
     "output_type": "display_data"
    }
   ],
   "source": [
    "import pandas as pd\n",
    "import numpy as np\n",
    "import calendar\n",
    "import datetime as dt\n",
    "import matplotlib.pyplot as plt\n",
    "import seaborn as sns\n",
    "import plotly.express as px\n",
    "from plotly.offline import init_notebook_mode, iplot\n",
    "\n",
    "init_notebook_mode(connected=True)"
   ]
  },
  {
   "cell_type": "code",
   "execution_count": 2,
   "metadata": {},
   "outputs": [
    {
     "data": {
      "text/html": [
       "<div>\n",
       "<style scoped>\n",
       "    .dataframe tbody tr th:only-of-type {\n",
       "        vertical-align: middle;\n",
       "    }\n",
       "\n",
       "    .dataframe tbody tr th {\n",
       "        vertical-align: top;\n",
       "    }\n",
       "\n",
       "    .dataframe thead th {\n",
       "        text-align: right;\n",
       "    }\n",
       "</style>\n",
       "<table border=\"1\" class=\"dataframe\">\n",
       "  <thead>\n",
       "    <tr style=\"text-align: right;\">\n",
       "      <th></th>\n",
       "      <th>Region</th>\n",
       "      <th>Date</th>\n",
       "      <th>Frequency</th>\n",
       "      <th>Estimated Unemployment Rate (%)</th>\n",
       "      <th>Estimated Employed</th>\n",
       "      <th>Estimated Labour Participation Rate (%)</th>\n",
       "      <th>Region.1</th>\n",
       "      <th>longitude</th>\n",
       "      <th>latitude</th>\n",
       "    </tr>\n",
       "  </thead>\n",
       "  <tbody>\n",
       "    <tr>\n",
       "      <th>0</th>\n",
       "      <td>Andhra Pradesh</td>\n",
       "      <td>31-01-2020</td>\n",
       "      <td>M</td>\n",
       "      <td>5.48</td>\n",
       "      <td>16635535</td>\n",
       "      <td>41.02</td>\n",
       "      <td>South</td>\n",
       "      <td>15.9129</td>\n",
       "      <td>79.74</td>\n",
       "    </tr>\n",
       "    <tr>\n",
       "      <th>1</th>\n",
       "      <td>Andhra Pradesh</td>\n",
       "      <td>29-02-2020</td>\n",
       "      <td>M</td>\n",
       "      <td>5.83</td>\n",
       "      <td>16545652</td>\n",
       "      <td>40.90</td>\n",
       "      <td>South</td>\n",
       "      <td>15.9129</td>\n",
       "      <td>79.74</td>\n",
       "    </tr>\n",
       "    <tr>\n",
       "      <th>2</th>\n",
       "      <td>Andhra Pradesh</td>\n",
       "      <td>31-03-2020</td>\n",
       "      <td>M</td>\n",
       "      <td>5.79</td>\n",
       "      <td>15881197</td>\n",
       "      <td>39.18</td>\n",
       "      <td>South</td>\n",
       "      <td>15.9129</td>\n",
       "      <td>79.74</td>\n",
       "    </tr>\n",
       "    <tr>\n",
       "      <th>3</th>\n",
       "      <td>Andhra Pradesh</td>\n",
       "      <td>30-04-2020</td>\n",
       "      <td>M</td>\n",
       "      <td>20.51</td>\n",
       "      <td>11336911</td>\n",
       "      <td>33.10</td>\n",
       "      <td>South</td>\n",
       "      <td>15.9129</td>\n",
       "      <td>79.74</td>\n",
       "    </tr>\n",
       "    <tr>\n",
       "      <th>4</th>\n",
       "      <td>Andhra Pradesh</td>\n",
       "      <td>31-05-2020</td>\n",
       "      <td>M</td>\n",
       "      <td>17.43</td>\n",
       "      <td>12988845</td>\n",
       "      <td>36.46</td>\n",
       "      <td>South</td>\n",
       "      <td>15.9129</td>\n",
       "      <td>79.74</td>\n",
       "    </tr>\n",
       "  </tbody>\n",
       "</table>\n",
       "</div>"
      ],
      "text/plain": [
       "           Region         Date  Frequency   Estimated Unemployment Rate (%)  \\\n",
       "0  Andhra Pradesh   31-01-2020          M                              5.48   \n",
       "1  Andhra Pradesh   29-02-2020          M                              5.83   \n",
       "2  Andhra Pradesh   31-03-2020          M                              5.79   \n",
       "3  Andhra Pradesh   30-04-2020          M                             20.51   \n",
       "4  Andhra Pradesh   31-05-2020          M                             17.43   \n",
       "\n",
       "    Estimated Employed   Estimated Labour Participation Rate (%) Region.1  \\\n",
       "0             16635535                                     41.02    South   \n",
       "1             16545652                                     40.90    South   \n",
       "2             15881197                                     39.18    South   \n",
       "3             11336911                                     33.10    South   \n",
       "4             12988845                                     36.46    South   \n",
       "\n",
       "   longitude  latitude  \n",
       "0    15.9129     79.74  \n",
       "1    15.9129     79.74  \n",
       "2    15.9129     79.74  \n",
       "3    15.9129     79.74  \n",
       "4    15.9129     79.74  "
      ]
     },
     "execution_count": 2,
     "metadata": {},
     "output_type": "execute_result"
    }
   ],
   "source": [
    "df = pd.read_csv(\"Unemployment_Rate_upto_11_2020.csv\")\n",
    "df.head()"
   ]
  },
  {
   "cell_type": "code",
   "execution_count": 3,
   "metadata": {},
   "outputs": [
    {
     "name": "stdout",
     "output_type": "stream",
     "text": [
      "<class 'pandas.core.frame.DataFrame'>\n",
      "RangeIndex: 267 entries, 0 to 266\n",
      "Data columns (total 9 columns):\n",
      " #   Column                                    Non-Null Count  Dtype  \n",
      "---  ------                                    --------------  -----  \n",
      " 0   Region                                    267 non-null    object \n",
      " 1    Date                                     267 non-null    object \n",
      " 2    Frequency                                267 non-null    object \n",
      " 3    Estimated Unemployment Rate (%)          267 non-null    float64\n",
      " 4    Estimated Employed                       267 non-null    int64  \n",
      " 5    Estimated Labour Participation Rate (%)  267 non-null    float64\n",
      " 6   Region.1                                  267 non-null    object \n",
      " 7   longitude                                 267 non-null    float64\n",
      " 8   latitude                                  267 non-null    float64\n",
      "dtypes: float64(4), int64(1), object(4)\n",
      "memory usage: 18.9+ KB\n"
     ]
    }
   ],
   "source": [
    "df.info()"
   ]
  },
  {
   "cell_type": "code",
   "execution_count": 4,
   "metadata": {},
   "outputs": [
    {
     "data": {
      "text/plain": [
       "Index(['Region', ' Date', ' Frequency', ' Estimated Unemployment Rate (%)',\n",
       "       ' Estimated Employed', ' Estimated Labour Participation Rate (%)',\n",
       "       'Region.1', 'longitude', 'latitude'],\n",
       "      dtype='object')"
      ]
     },
     "execution_count": 4,
     "metadata": {},
     "output_type": "execute_result"
    }
   ],
   "source": [
    "df.isnull().sum()\n",
    "df.columns"
   ]
  },
  {
   "cell_type": "code",
   "execution_count": 8,
   "metadata": {},
   "outputs": [],
   "source": [
    "df.columns = [\n",
    "    \"State\",\n",
    "    \"Date\",\n",
    "    \"Frequency\",\n",
    "    \"Estimated unemployment rate\",\n",
    "    \"Estimated employed\",\n",
    "    \"Estimated labour participation rate\",\n",
    "    \"Region\",\n",
    "    \"Longitude\",\n",
    "    \"Latitude\",\n",
    "]"
   ]
  },
  {
   "cell_type": "code",
   "execution_count": 9,
   "metadata": {},
   "outputs": [
    {
     "data": {
      "text/plain": [
       "0     2020-01-31\n",
       "1     2020-02-29\n",
       "2     2020-03-31\n",
       "3     2020-04-30\n",
       "4     2020-05-31\n",
       "         ...    \n",
       "262   2020-06-30\n",
       "263   2020-07-31\n",
       "264   2020-08-31\n",
       "265   2020-09-30\n",
       "266   2020-10-31\n",
       "Name: Date, Length: 267, dtype: datetime64[ns]"
      ]
     },
     "execution_count": 9,
     "metadata": {},
     "output_type": "execute_result"
    }
   ],
   "source": [
    "df[\"Date\"] = pd.to_datetime(df[\"Date\"], dayfirst=True)\n",
    "df.Date"
   ]
  },
  {
   "cell_type": "code",
   "execution_count": 10,
   "metadata": {},
   "outputs": [],
   "source": [
    "df[\"Frequency\"] = df[\"Frequency\"].astype(\"category\")\n",
    "df[\"Region\"] = df[\"Region\"].astype(\"category\")"
   ]
  },
  {
   "cell_type": "code",
   "execution_count": 11,
   "metadata": {},
   "outputs": [
    {
     "data": {
      "text/plain": [
       "0       1\n",
       "1       2\n",
       "2       3\n",
       "3       4\n",
       "4       5\n",
       "       ..\n",
       "262     6\n",
       "263     7\n",
       "264     8\n",
       "265     9\n",
       "266    10\n",
       "Name: Month, Length: 267, dtype: int32"
      ]
     },
     "execution_count": 11,
     "metadata": {},
     "output_type": "execute_result"
    }
   ],
   "source": [
    "# creating month column by extracting from Date\n",
    "df[\"Month\"] = df[\"Date\"].dt.month\n",
    "df[\"Month_int\"] = df[\"Month\"].apply(lambda x: int(x))\n",
    "df[\"Month\"]"
   ]
  },
  {
   "cell_type": "code",
   "execution_count": 12,
   "metadata": {},
   "outputs": [
    {
     "data": {
      "text/plain": [
       "0      Jan\n",
       "1      Feb\n",
       "2      Mar\n",
       "3      Apr\n",
       "4      May\n",
       "      ... \n",
       "262    Jun\n",
       "263    Jul\n",
       "264    Aug\n",
       "265    Sep\n",
       "266    Oct\n",
       "Name: Month_name, Length: 267, dtype: object"
      ]
     },
     "execution_count": 12,
     "metadata": {},
     "output_type": "execute_result"
    }
   ],
   "source": [
    "# creating month name column form Month column\n",
    "df[\"Month_name\"] = df[\"Month\"].apply(lambda x: calendar.month_abbr[x])\n",
    "df[\"Month_name\"]"
   ]
  },
  {
   "cell_type": "code",
   "execution_count": 13,
   "metadata": {},
   "outputs": [
    {
     "data": {
      "text/html": [
       "<div>\n",
       "<style scoped>\n",
       "    .dataframe tbody tr th:only-of-type {\n",
       "        vertical-align: middle;\n",
       "    }\n",
       "\n",
       "    .dataframe tbody tr th {\n",
       "        vertical-align: top;\n",
       "    }\n",
       "\n",
       "    .dataframe thead th {\n",
       "        text-align: right;\n",
       "    }\n",
       "</style>\n",
       "<table border=\"1\" class=\"dataframe\">\n",
       "  <thead>\n",
       "    <tr style=\"text-align: right;\">\n",
       "      <th></th>\n",
       "      <th>State</th>\n",
       "      <th>Date</th>\n",
       "      <th>Frequency</th>\n",
       "      <th>Estimated unemployment rate</th>\n",
       "      <th>Estimated employed</th>\n",
       "      <th>Estimated labour participation rate</th>\n",
       "      <th>Region</th>\n",
       "      <th>Longitude</th>\n",
       "      <th>Latitude</th>\n",
       "      <th>Month_int</th>\n",
       "      <th>Month_name</th>\n",
       "    </tr>\n",
       "  </thead>\n",
       "  <tbody>\n",
       "    <tr>\n",
       "      <th>0</th>\n",
       "      <td>Andhra Pradesh</td>\n",
       "      <td>2020-01-31</td>\n",
       "      <td>M</td>\n",
       "      <td>5.48</td>\n",
       "      <td>16635535</td>\n",
       "      <td>41.02</td>\n",
       "      <td>South</td>\n",
       "      <td>15.9129</td>\n",
       "      <td>79.74</td>\n",
       "      <td>1</td>\n",
       "      <td>Jan</td>\n",
       "    </tr>\n",
       "    <tr>\n",
       "      <th>1</th>\n",
       "      <td>Andhra Pradesh</td>\n",
       "      <td>2020-02-29</td>\n",
       "      <td>M</td>\n",
       "      <td>5.83</td>\n",
       "      <td>16545652</td>\n",
       "      <td>40.90</td>\n",
       "      <td>South</td>\n",
       "      <td>15.9129</td>\n",
       "      <td>79.74</td>\n",
       "      <td>2</td>\n",
       "      <td>Feb</td>\n",
       "    </tr>\n",
       "    <tr>\n",
       "      <th>2</th>\n",
       "      <td>Andhra Pradesh</td>\n",
       "      <td>2020-03-31</td>\n",
       "      <td>M</td>\n",
       "      <td>5.79</td>\n",
       "      <td>15881197</td>\n",
       "      <td>39.18</td>\n",
       "      <td>South</td>\n",
       "      <td>15.9129</td>\n",
       "      <td>79.74</td>\n",
       "      <td>3</td>\n",
       "      <td>Mar</td>\n",
       "    </tr>\n",
       "    <tr>\n",
       "      <th>3</th>\n",
       "      <td>Andhra Pradesh</td>\n",
       "      <td>2020-04-30</td>\n",
       "      <td>M</td>\n",
       "      <td>20.51</td>\n",
       "      <td>11336911</td>\n",
       "      <td>33.10</td>\n",
       "      <td>South</td>\n",
       "      <td>15.9129</td>\n",
       "      <td>79.74</td>\n",
       "      <td>4</td>\n",
       "      <td>Apr</td>\n",
       "    </tr>\n",
       "    <tr>\n",
       "      <th>4</th>\n",
       "      <td>Andhra Pradesh</td>\n",
       "      <td>2020-05-31</td>\n",
       "      <td>M</td>\n",
       "      <td>17.43</td>\n",
       "      <td>12988845</td>\n",
       "      <td>36.46</td>\n",
       "      <td>South</td>\n",
       "      <td>15.9129</td>\n",
       "      <td>79.74</td>\n",
       "      <td>5</td>\n",
       "      <td>May</td>\n",
       "    </tr>\n",
       "  </tbody>\n",
       "</table>\n",
       "</div>"
      ],
      "text/plain": [
       "            State       Date Frequency  Estimated unemployment rate  \\\n",
       "0  Andhra Pradesh 2020-01-31         M                         5.48   \n",
       "1  Andhra Pradesh 2020-02-29         M                         5.83   \n",
       "2  Andhra Pradesh 2020-03-31         M                         5.79   \n",
       "3  Andhra Pradesh 2020-04-30         M                        20.51   \n",
       "4  Andhra Pradesh 2020-05-31         M                        17.43   \n",
       "\n",
       "   Estimated employed  Estimated labour participation rate Region  Longitude  \\\n",
       "0            16635535                                41.02  South    15.9129   \n",
       "1            16545652                                40.90  South    15.9129   \n",
       "2            15881197                                39.18  South    15.9129   \n",
       "3            11336911                                33.10  South    15.9129   \n",
       "4            12988845                                36.46  South    15.9129   \n",
       "\n",
       "   Latitude  Month_int Month_name  \n",
       "0     79.74          1        Jan  \n",
       "1     79.74          2        Feb  \n",
       "2     79.74          3        Mar  \n",
       "3     79.74          4        Apr  \n",
       "4     79.74          5        May  "
      ]
     },
     "execution_count": 13,
     "metadata": {},
     "output_type": "execute_result"
    }
   ],
   "source": [
    "# deleting month\n",
    "df.drop(columns=\"Month\", inplace=True)\n",
    "df.head()"
   ]
  },
  {
   "cell_type": "code",
   "execution_count": 14,
   "metadata": {},
   "outputs": [
    {
     "data": {
      "text/html": [
       "<div>\n",
       "<style scoped>\n",
       "    .dataframe tbody tr th:only-of-type {\n",
       "        vertical-align: middle;\n",
       "    }\n",
       "\n",
       "    .dataframe tbody tr th {\n",
       "        vertical-align: top;\n",
       "    }\n",
       "\n",
       "    .dataframe thead th {\n",
       "        text-align: right;\n",
       "    }\n",
       "</style>\n",
       "<table border=\"1\" class=\"dataframe\">\n",
       "  <thead>\n",
       "    <tr style=\"text-align: right;\">\n",
       "      <th></th>\n",
       "      <th>Estimated unemployment rate</th>\n",
       "      <th>Estimated employed</th>\n",
       "      <th>Estimated labour participation rate</th>\n",
       "    </tr>\n",
       "  </thead>\n",
       "  <tbody>\n",
       "    <tr>\n",
       "      <th>count</th>\n",
       "      <td>267.000000</td>\n",
       "      <td>2.670000e+02</td>\n",
       "      <td>267.000000</td>\n",
       "    </tr>\n",
       "    <tr>\n",
       "      <th>mean</th>\n",
       "      <td>12.236929</td>\n",
       "      <td>1.396211e+07</td>\n",
       "      <td>41.681573</td>\n",
       "    </tr>\n",
       "    <tr>\n",
       "      <th>std</th>\n",
       "      <td>10.803283</td>\n",
       "      <td>1.336632e+07</td>\n",
       "      <td>7.845419</td>\n",
       "    </tr>\n",
       "    <tr>\n",
       "      <th>min</th>\n",
       "      <td>0.500000</td>\n",
       "      <td>1.175420e+05</td>\n",
       "      <td>16.770000</td>\n",
       "    </tr>\n",
       "    <tr>\n",
       "      <th>25%</th>\n",
       "      <td>4.845000</td>\n",
       "      <td>2.838930e+06</td>\n",
       "      <td>37.265000</td>\n",
       "    </tr>\n",
       "    <tr>\n",
       "      <th>50%</th>\n",
       "      <td>9.650000</td>\n",
       "      <td>9.732417e+06</td>\n",
       "      <td>40.390000</td>\n",
       "    </tr>\n",
       "    <tr>\n",
       "      <th>75%</th>\n",
       "      <td>16.755000</td>\n",
       "      <td>2.187869e+07</td>\n",
       "      <td>44.055000</td>\n",
       "    </tr>\n",
       "    <tr>\n",
       "      <th>max</th>\n",
       "      <td>75.850000</td>\n",
       "      <td>5.943376e+07</td>\n",
       "      <td>69.690000</td>\n",
       "    </tr>\n",
       "  </tbody>\n",
       "</table>\n",
       "</div>"
      ],
      "text/plain": [
       "       Estimated unemployment rate  Estimated employed  \\\n",
       "count                   267.000000        2.670000e+02   \n",
       "mean                     12.236929        1.396211e+07   \n",
       "std                      10.803283        1.336632e+07   \n",
       "min                       0.500000        1.175420e+05   \n",
       "25%                       4.845000        2.838930e+06   \n",
       "50%                       9.650000        9.732417e+06   \n",
       "75%                      16.755000        2.187869e+07   \n",
       "max                      75.850000        5.943376e+07   \n",
       "\n",
       "       Estimated labour participation rate  \n",
       "count                           267.000000  \n",
       "mean                             41.681573  \n",
       "std                               7.845419  \n",
       "min                              16.770000  \n",
       "25%                              37.265000  \n",
       "50%                              40.390000  \n",
       "75%                              44.055000  \n",
       "max                              69.690000  "
      ]
     },
     "execution_count": 14,
     "metadata": {},
     "output_type": "execute_result"
    }
   ],
   "source": [
    "# to see the description of essential column\n",
    "table_data = df[\n",
    "    [\n",
    "        \"Estimated unemployment rate\",\n",
    "        \"Estimated employed\",\n",
    "        \"Estimated labour participation rate\",\n",
    "    ]\n",
    "]\n",
    "table_data.describe()"
   ]
  },
  {
   "cell_type": "code",
   "execution_count": 16,
   "metadata": {},
   "outputs": [
    {
     "data": {
      "text/html": [
       "<div>\n",
       "<style scoped>\n",
       "    .dataframe tbody tr th:only-of-type {\n",
       "        vertical-align: middle;\n",
       "    }\n",
       "\n",
       "    .dataframe tbody tr th {\n",
       "        vertical-align: top;\n",
       "    }\n",
       "\n",
       "    .dataframe thead th {\n",
       "        text-align: right;\n",
       "    }\n",
       "</style>\n",
       "<table border=\"1\" class=\"dataframe\">\n",
       "  <thead>\n",
       "    <tr style=\"text-align: right;\">\n",
       "      <th></th>\n",
       "      <th>Region</th>\n",
       "      <th>Estimated unemployment rate</th>\n",
       "      <th>Estimated employed</th>\n",
       "      <th>Estimated labour participation rate</th>\n",
       "    </tr>\n",
       "  </thead>\n",
       "  <tbody>\n",
       "    <tr>\n",
       "      <th>0</th>\n",
       "      <td>East</td>\n",
       "      <td>13.916</td>\n",
       "      <td>1.960237e+07</td>\n",
       "      <td>40.109</td>\n",
       "    </tr>\n",
       "    <tr>\n",
       "      <th>1</th>\n",
       "      <td>North</td>\n",
       "      <td>15.890</td>\n",
       "      <td>1.307249e+07</td>\n",
       "      <td>38.703</td>\n",
       "    </tr>\n",
       "    <tr>\n",
       "      <th>2</th>\n",
       "      <td>Northeast</td>\n",
       "      <td>10.950</td>\n",
       "      <td>3.617106e+06</td>\n",
       "      <td>52.055</td>\n",
       "    </tr>\n",
       "    <tr>\n",
       "      <th>3</th>\n",
       "      <td>South</td>\n",
       "      <td>10.455</td>\n",
       "      <td>1.404059e+07</td>\n",
       "      <td>40.436</td>\n",
       "    </tr>\n",
       "    <tr>\n",
       "      <th>4</th>\n",
       "      <td>West</td>\n",
       "      <td>8.239</td>\n",
       "      <td>1.862351e+07</td>\n",
       "      <td>41.257</td>\n",
       "    </tr>\n",
       "  </tbody>\n",
       "</table>\n",
       "</div>"
      ],
      "text/plain": [
       "      Region  Estimated unemployment rate  Estimated employed  \\\n",
       "0       East                       13.916        1.960237e+07   \n",
       "1      North                       15.890        1.307249e+07   \n",
       "2  Northeast                       10.950        3.617106e+06   \n",
       "3      South                       10.455        1.404059e+07   \n",
       "4       West                        8.239        1.862351e+07   \n",
       "\n",
       "   Estimated labour participation rate  \n",
       "0                               40.109  \n",
       "1                               38.703  \n",
       "2                               52.055  \n",
       "3                               40.436  \n",
       "4                               41.257  "
      ]
     },
     "execution_count": 16,
     "metadata": {},
     "output_type": "execute_result"
    }
   ],
   "source": [
    "#grouping unemployment rate, employed and labour participation rate for each region\n",
    "regional_states = df.groupby([\"Region\"])[[\"Estimated unemployment rate\",  \"Estimated employed\",\"Estimated labour participation rate\"]].mean().reset_index()\n",
    "\n",
    "import warnings\n",
    "warnings.filterwarnings('ignore')\n",
    "round(regional_states, 3)"
   ]
  },
  {
   "cell_type": "code",
   "execution_count": 17,
   "metadata": {},
   "outputs": [
    {
     "data": {
      "image/png": "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",
      "text/plain": [
       "<Figure size 1000x800 with 1 Axes>"
      ]
     },
     "metadata": {},
     "output_type": "display_data"
    }
   ],
   "source": [
    "#The rate of unemployment by each regions\n",
    "plt.figure(figsize=(10, 8))\n",
    "plt.title(\"unemployment of each Indian Region\")\n",
    "sns.histplot(x=\"Estimated unemployment rate\", hue=\"Region\", data=df)\n",
    "plt.show()"
   ]
  },
  {
   "cell_type": "code",
   "execution_count": 54,
   "metadata": {},
   "outputs": [
    {
     "data": {
      "text/plain": [
       "<Axes: xlabel='Estimated unemployment rate', ylabel='State'>"
      ]
     },
     "execution_count": 54,
     "metadata": {},
     "output_type": "execute_result"
    },
    {
     "data": {
      "image/png": "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",
      "text/plain": [
       "<Figure size 640x480 with 1 Axes>"
      ]
     },
     "metadata": {},
     "output_type": "display_data"
    }
   ],
   "source": [
    "sns.boxplot(data=df,x='Estimated unemployment rate', y='State')\n",
    "\n"
   ]
  },
  {
   "cell_type": "code",
   "execution_count": 18,
   "metadata": {},
   "outputs": [
    {
     "data": {
      "text/plain": [
       "<Axes: xlabel='Estimated employed', ylabel='State'>"
      ]
     },
     "execution_count": 18,
     "metadata": {},
     "output_type": "execute_result"
    },
    {
     "data": {
      "image/png": "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",
      "text/plain": [
       "<Figure size 640x480 with 1 Axes>"
      ]
     },
     "metadata": {},
     "output_type": "display_data"
    }
   ],
   "source": [
    "#box plot labour employed rate by each states\n",
    "sns.boxplot(data=df,x='Estimated employed', y='State')\n"
   ]
  },
  {
   "cell_type": "code",
   "execution_count": 19,
   "metadata": {},
   "outputs": [
    {
     "data": {
      "text/plain": [
       "<Axes: xlabel='Estimated labour participation rate', ylabel='State'>"
      ]
     },
     "execution_count": 19,
     "metadata": {},
     "output_type": "execute_result"
    },
    {
     "data": {
      "image/png": "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",
      "text/plain": [
       "<Figure size 640x480 with 1 Axes>"
      ]
     },
     "metadata": {},
     "output_type": "display_data"
    }
   ],
   "source": [
    "#box plot labour participation rate by each states\n",
    "sns.boxplot(data=df,x='Estimated labour participation rate', y='State')"
   ]
  },
  {
   "cell_type": "code",
   "execution_count": 20,
   "metadata": {},
   "outputs": [
    {
     "data": {
      "application/vnd.plotly.v1+json": {
       "config": {
        "plotlyServerURL": "https://plot.ly"
       },
       "data": [
        {
         "alignmentgroup": "True",
         "hovertemplate": "State=%{x}<br>Estimated unemployment rate=%{y}<extra></extra>",
         "legendgroup": "Meghalaya",
         "marker": {
          "color": "#F8766D",
          "pattern": {
           "shape": ""
          }
         },
         "name": "Meghalaya",
         "offsetgroup": "Meghalaya",
         "orientation": "v",
         "showlegend": true,
         "textposition": "auto",
         "type": "bar",
         "x": [
          "Meghalaya"
         ],
         "xaxis": "x",
         "y": [
          3.8659999999999997
         ],
         "yaxis": "y"
        },
        {
         "alignmentgroup": "True",
         "hovertemplate": "State=%{x}<br>Estimated unemployment rate=%{y}<extra></extra>",
         "legendgroup": "Assam",
         "marker": {
          "color": "#A3A500",
          "pattern": {
           "shape": ""
          }
         },
         "name": "Assam",
         "offsetgroup": "Assam",
         "orientation": "v",
         "showlegend": true,
         "textposition": "auto",
         "type": "bar",
         "x": [
          "Assam"
         ],
         "xaxis": "x",
         "y": [
          4.856
         ],
         "yaxis": "y"
        },
        {
         "alignmentgroup": "True",
         "hovertemplate": "State=%{x}<br>Estimated unemployment rate=%{y}<extra></extra>",
         "legendgroup": "Gujarat",
         "marker": {
          "color": "#00BF7D",
          "pattern": {
           "shape": ""
          }
         },
         "name": "Gujarat",
         "offsetgroup": "Gujarat",
         "orientation": "v",
         "showlegend": true,
         "textposition": "auto",
         "type": "bar",
         "x": [
          "Gujarat"
         ],
         "xaxis": "x",
         "y": [
          6.3759999999999994
         ],
         "yaxis": "y"
        },
        {
         "alignmentgroup": "True",
         "hovertemplate": "State=%{x}<br>Estimated unemployment rate=%{y}<extra></extra>",
         "legendgroup": "Odisha",
         "marker": {
          "color": "#00B0F6",
          "pattern": {
           "shape": ""
          }
         },
         "name": "Odisha",
         "offsetgroup": "Odisha",
         "orientation": "v",
         "showlegend": true,
         "textposition": "auto",
         "type": "bar",
         "x": [
          "Odisha"
         ],
         "xaxis": "x",
         "y": [
          6.462000000000001
         ],
         "yaxis": "y"
        },
        {
         "alignmentgroup": "True",
         "hovertemplate": "State=%{x}<br>Estimated unemployment rate=%{y}<extra></extra>",
         "legendgroup": "Telangana",
         "marker": {
          "color": "#E76BF3",
          "pattern": {
           "shape": ""
          }
         },
         "name": "Telangana",
         "offsetgroup": "Telangana",
         "orientation": "v",
         "showlegend": true,
         "textposition": "auto",
         "type": "bar",
         "x": [
          "Telangana"
         ],
         "xaxis": "x",
         "y": [
          6.833
         ],
         "yaxis": "y"
        },
        {
         "alignmentgroup": "True",
         "hovertemplate": "State=%{x}<br>Estimated unemployment rate=%{y}<extra></extra>",
         "legendgroup": "Madhya Pradesh",
         "marker": {
          "color": "#F8766D",
          "pattern": {
           "shape": ""
          }
         },
         "name": "Madhya Pradesh",
         "offsetgroup": "Madhya Pradesh",
         "orientation": "v",
         "showlegend": true,
         "textposition": "auto",
         "type": "bar",
         "x": [
          "Madhya Pradesh"
         ],
         "xaxis": "x",
         "y": [
          6.854000000000001
         ],
         "yaxis": "y"
        },
        {
         "alignmentgroup": "True",
         "hovertemplate": "State=%{x}<br>Estimated unemployment rate=%{y}<extra></extra>",
         "legendgroup": "Karnataka",
         "marker": {
          "color": "#A3A500",
          "pattern": {
           "shape": ""
          }
         },
         "name": "Karnataka",
         "offsetgroup": "Karnataka",
         "orientation": "v",
         "showlegend": true,
         "textposition": "auto",
         "type": "bar",
         "x": [
          "Karnataka"
         ],
         "xaxis": "x",
         "y": [
          7.667999999999999
         ],
         "yaxis": "y"
        },
        {
         "alignmentgroup": "True",
         "hovertemplate": "State=%{x}<br>Estimated unemployment rate=%{y}<extra></extra>",
         "legendgroup": "Chhattisgarh",
         "marker": {
          "color": "#00BF7D",
          "pattern": {
           "shape": ""
          }
         },
         "name": "Chhattisgarh",
         "offsetgroup": "Chhattisgarh",
         "orientation": "v",
         "showlegend": true,
         "textposition": "auto",
         "type": "bar",
         "x": [
          "Chhattisgarh"
         ],
         "xaxis": "x",
         "y": [
          7.819
         ],
         "yaxis": "y"
        },
        {
         "alignmentgroup": "True",
         "hovertemplate": "State=%{x}<br>Estimated unemployment rate=%{y}<extra></extra>",
         "legendgroup": "Maharashtra",
         "marker": {
          "color": "#00B0F6",
          "pattern": {
           "shape": ""
          }
         },
         "name": "Maharashtra",
         "offsetgroup": "Maharashtra",
         "orientation": "v",
         "showlegend": true,
         "textposition": "auto",
         "type": "bar",
         "x": [
          "Maharashtra"
         ],
         "xaxis": "x",
         "y": [
          7.979000000000001
         ],
         "yaxis": "y"
        },
        {
         "alignmentgroup": "True",
         "hovertemplate": "State=%{x}<br>Estimated unemployment rate=%{y}<extra></extra>",
         "legendgroup": "Andhra Pradesh",
         "marker": {
          "color": "#E76BF3",
          "pattern": {
           "shape": ""
          }
         },
         "name": "Andhra Pradesh",
         "offsetgroup": "Andhra Pradesh",
         "orientation": "v",
         "showlegend": true,
         "textposition": "auto",
         "type": "bar",
         "x": [
          "Andhra Pradesh"
         ],
         "xaxis": "x",
         "y": [
          8.664
         ],
         "yaxis": "y"
        },
        {
         "alignmentgroup": "True",
         "hovertemplate": "State=%{x}<br>Estimated unemployment rate=%{y}<extra></extra>",
         "legendgroup": "Kerala",
         "marker": {
          "color": "#F8766D",
          "pattern": {
           "shape": ""
          }
         },
         "name": "Kerala",
         "offsetgroup": "Kerala",
         "orientation": "v",
         "showlegend": true,
         "textposition": "auto",
         "type": "bar",
         "x": [
          "Kerala"
         ],
         "xaxis": "x",
         "y": [
          9.434000000000001
         ],
         "yaxis": "y"
        },
        {
         "alignmentgroup": "True",
         "hovertemplate": "State=%{x}<br>Estimated unemployment rate=%{y}<extra></extra>",
         "legendgroup": "Uttar Pradesh",
         "marker": {
          "color": "#A3A500",
          "pattern": {
           "shape": ""
          }
         },
         "name": "Uttar Pradesh",
         "offsetgroup": "Uttar Pradesh",
         "orientation": "v",
         "showlegend": true,
         "textposition": "auto",
         "type": "bar",
         "x": [
          "Uttar Pradesh"
         ],
         "xaxis": "x",
         "y": [
          9.737
         ],
         "yaxis": "y"
        },
        {
         "alignmentgroup": "True",
         "hovertemplate": "State=%{x}<br>Estimated unemployment rate=%{y}<extra></extra>",
         "legendgroup": "Sikkim",
         "marker": {
          "color": "#00BF7D",
          "pattern": {
           "shape": ""
          }
         },
         "name": "Sikkim",
         "offsetgroup": "Sikkim",
         "orientation": "v",
         "showlegend": true,
         "textposition": "auto",
         "type": "bar",
         "x": [
          "Sikkim"
         ],
         "xaxis": "x",
         "y": [
          9.7925
         ],
         "yaxis": "y"
        },
        {
         "alignmentgroup": "True",
         "hovertemplate": "State=%{x}<br>Estimated unemployment rate=%{y}<extra></extra>",
         "legendgroup": "West Bengal",
         "marker": {
          "color": "#00B0F6",
          "pattern": {
           "shape": ""
          }
         },
         "name": "West Bengal",
         "offsetgroup": "West Bengal",
         "orientation": "v",
         "showlegend": true,
         "textposition": "auto",
         "type": "bar",
         "x": [
          "West Bengal"
         ],
         "xaxis": "x",
         "y": [
          10.192
         ],
         "yaxis": "y"
        },
        {
         "alignmentgroup": "True",
         "hovertemplate": "State=%{x}<br>Estimated unemployment rate=%{y}<extra></extra>",
         "legendgroup": "Uttarakhand",
         "marker": {
          "color": "#E76BF3",
          "pattern": {
           "shape": ""
          }
         },
         "name": "Uttarakhand",
         "offsetgroup": "Uttarakhand",
         "orientation": "v",
         "showlegend": true,
         "textposition": "auto",
         "type": "bar",
         "x": [
          "Uttarakhand"
         ],
         "xaxis": "x",
         "y": [
          11.156
         ],
         "yaxis": "y"
        },
        {
         "alignmentgroup": "True",
         "hovertemplate": "State=%{x}<br>Estimated unemployment rate=%{y}<extra></extra>",
         "legendgroup": "Punjab",
         "marker": {
          "color": "#F8766D",
          "pattern": {
           "shape": ""
          }
         },
         "name": "Punjab",
         "offsetgroup": "Punjab",
         "orientation": "v",
         "showlegend": true,
         "textposition": "auto",
         "type": "bar",
         "x": [
          "Punjab"
         ],
         "xaxis": "x",
         "y": [
          11.981
         ],
         "yaxis": "y"
        },
        {
         "alignmentgroup": "True",
         "hovertemplate": "State=%{x}<br>Estimated unemployment rate=%{y}<extra></extra>",
         "legendgroup": "Goa",
         "marker": {
          "color": "#A3A500",
          "pattern": {
           "shape": ""
          }
         },
         "name": "Goa",
         "offsetgroup": "Goa",
         "orientation": "v",
         "showlegend": true,
         "textposition": "auto",
         "type": "bar",
         "x": [
          "Goa"
         ],
         "xaxis": "x",
         "y": [
          12.167
         ],
         "yaxis": "y"
        },
        {
         "alignmentgroup": "True",
         "hovertemplate": "State=%{x}<br>Estimated unemployment rate=%{y}<extra></extra>",
         "legendgroup": "Tamil Nadu",
         "marker": {
          "color": "#00BF7D",
          "pattern": {
           "shape": ""
          }
         },
         "name": "Tamil Nadu",
         "offsetgroup": "Tamil Nadu",
         "orientation": "v",
         "showlegend": true,
         "textposition": "auto",
         "type": "bar",
         "x": [
          "Tamil Nadu"
         ],
         "xaxis": "x",
         "y": [
          12.187
         ],
         "yaxis": "y"
        },
        {
         "alignmentgroup": "True",
         "hovertemplate": "State=%{x}<br>Estimated unemployment rate=%{y}<extra></extra>",
         "legendgroup": "Rajasthan",
         "marker": {
          "color": "#00B0F6",
          "pattern": {
           "shape": ""
          }
         },
         "name": "Rajasthan",
         "offsetgroup": "Rajasthan",
         "orientation": "v",
         "showlegend": true,
         "textposition": "auto",
         "type": "bar",
         "x": [
          "Rajasthan"
         ],
         "xaxis": "x",
         "y": [
          15.868
         ],
         "yaxis": "y"
        },
        {
         "alignmentgroup": "True",
         "hovertemplate": "State=%{x}<br>Estimated unemployment rate=%{y}<extra></extra>",
         "legendgroup": "Himachal Pradesh",
         "marker": {
          "color": "#E76BF3",
          "pattern": {
           "shape": ""
          }
         },
         "name": "Himachal Pradesh",
         "offsetgroup": "Himachal Pradesh",
         "orientation": "v",
         "showlegend": true,
         "textposition": "auto",
         "type": "bar",
         "x": [
          "Himachal Pradesh"
         ],
         "xaxis": "x",
         "y": [
          16.065
         ],
         "yaxis": "y"
        },
        {
         "alignmentgroup": "True",
         "hovertemplate": "State=%{x}<br>Estimated unemployment rate=%{y}<extra></extra>",
         "legendgroup": "Jammu & Kashmir",
         "marker": {
          "color": "#F8766D",
          "pattern": {
           "shape": ""
          }
         },
         "name": "Jammu & Kashmir",
         "offsetgroup": "Jammu & Kashmir",
         "orientation": "v",
         "showlegend": true,
         "textposition": "auto",
         "type": "bar",
         "x": [
          "Jammu & Kashmir"
         ],
         "xaxis": "x",
         "y": [
          16.477777777777778
         ],
         "yaxis": "y"
        },
        {
         "alignmentgroup": "True",
         "hovertemplate": "State=%{x}<br>Estimated unemployment rate=%{y}<extra></extra>",
         "legendgroup": "Puducherry",
         "marker": {
          "color": "#A3A500",
          "pattern": {
           "shape": ""
          }
         },
         "name": "Puducherry",
         "offsetgroup": "Puducherry",
         "orientation": "v",
         "showlegend": true,
         "textposition": "auto",
         "type": "bar",
         "x": [
          "Puducherry"
         ],
         "xaxis": "x",
         "y": [
          17.942
         ],
         "yaxis": "y"
        },
        {
         "alignmentgroup": "True",
         "hovertemplate": "State=%{x}<br>Estimated unemployment rate=%{y}<extra></extra>",
         "legendgroup": "Delhi",
         "marker": {
          "color": "#00BF7D",
          "pattern": {
           "shape": ""
          }
         },
         "name": "Delhi",
         "offsetgroup": "Delhi",
         "orientation": "v",
         "showlegend": true,
         "textposition": "auto",
         "type": "bar",
         "x": [
          "Delhi"
         ],
         "xaxis": "x",
         "y": [
          18.414
         ],
         "yaxis": "y"
        },
        {
         "alignmentgroup": "True",
         "hovertemplate": "State=%{x}<br>Estimated unemployment rate=%{y}<extra></extra>",
         "legendgroup": "Bihar",
         "marker": {
          "color": "#00B0F6",
          "pattern": {
           "shape": ""
          }
         },
         "name": "Bihar",
         "offsetgroup": "Bihar",
         "orientation": "v",
         "showlegend": true,
         "textposition": "auto",
         "type": "bar",
         "x": [
          "Bihar"
         ],
         "xaxis": "x",
         "y": [
          19.471
         ],
         "yaxis": "y"
        },
        {
         "alignmentgroup": "True",
         "hovertemplate": "State=%{x}<br>Estimated unemployment rate=%{y}<extra></extra>",
         "legendgroup": "Jharkhand",
         "marker": {
          "color": "#E76BF3",
          "pattern": {
           "shape": ""
          }
         },
         "name": "Jharkhand",
         "offsetgroup": "Jharkhand",
         "orientation": "v",
         "showlegend": true,
         "textposition": "auto",
         "type": "bar",
         "x": [
          "Jharkhand"
         ],
         "xaxis": "x",
         "y": [
          19.538999999999998
         ],
         "yaxis": "y"
        },
        {
         "alignmentgroup": "True",
         "hovertemplate": "State=%{x}<br>Estimated unemployment rate=%{y}<extra></extra>",
         "legendgroup": "Tripura",
         "marker": {
          "color": "#F8766D",
          "pattern": {
           "shape": ""
          }
         },
         "name": "Tripura",
         "offsetgroup": "Tripura",
         "orientation": "v",
         "showlegend": true,
         "textposition": "auto",
         "type": "bar",
         "x": [
          "Tripura"
         ],
         "xaxis": "x",
         "y": [
          25.055
         ],
         "yaxis": "y"
        },
        {
         "alignmentgroup": "True",
         "hovertemplate": "State=%{x}<br>Estimated unemployment rate=%{y}<extra></extra>",
         "legendgroup": "Haryana",
         "marker": {
          "color": "#A3A500",
          "pattern": {
           "shape": ""
          }
         },
         "name": "Haryana",
         "offsetgroup": "Haryana",
         "orientation": "v",
         "showlegend": true,
         "textposition": "auto",
         "type": "bar",
         "x": [
          "Haryana"
         ],
         "xaxis": "x",
         "y": [
          27.476999999999997
         ],
         "yaxis": "y"
        }
       ],
       "layout": {
        "barmode": "relative",
        "legend": {
         "title": {
          "text": "State"
         },
         "tracegroupgap": 0
        },
        "template": {
         "data": {
          "bar": [
           {
            "error_x": {
             "color": "rgb(51,51,51)"
            },
            "error_y": {
             "color": "rgb(51,51,51)"
            },
            "marker": {
             "line": {
              "color": "rgb(237,237,237)",
              "width": 0.5
             },
             "pattern": {
              "fillmode": "overlay",
              "size": 10,
              "solidity": 0.2
             }
            },
            "type": "bar"
           }
          ],
          "barpolar": [
           {
            "marker": {
             "line": {
              "color": "rgb(237,237,237)",
              "width": 0.5
             },
             "pattern": {
              "fillmode": "overlay",
              "size": 10,
              "solidity": 0.2
             }
            },
            "type": "barpolar"
           }
          ],
          "carpet": [
           {
            "aaxis": {
             "endlinecolor": "rgb(51,51,51)",
             "gridcolor": "white",
             "linecolor": "white",
             "minorgridcolor": "white",
             "startlinecolor": "rgb(51,51,51)"
            },
            "baxis": {
             "endlinecolor": "rgb(51,51,51)",
             "gridcolor": "white",
             "linecolor": "white",
             "minorgridcolor": "white",
             "startlinecolor": "rgb(51,51,51)"
            },
            "type": "carpet"
           }
          ],
          "choropleth": [
           {
            "colorbar": {
             "outlinewidth": 0,
             "tickcolor": "rgb(237,237,237)",
             "ticklen": 6,
             "ticks": "inside"
            },
            "type": "choropleth"
           }
          ],
          "contour": [
           {
            "colorbar": {
             "outlinewidth": 0,
             "tickcolor": "rgb(237,237,237)",
             "ticklen": 6,
             "ticks": "inside"
            },
            "colorscale": [
             [
              0,
              "rgb(20,44,66)"
             ],
             [
              1,
              "rgb(90,179,244)"
             ]
            ],
            "type": "contour"
           }
          ],
          "contourcarpet": [
           {
            "colorbar": {
             "outlinewidth": 0,
             "tickcolor": "rgb(237,237,237)",
             "ticklen": 6,
             "ticks": "inside"
            },
            "type": "contourcarpet"
           }
          ],
          "heatmap": [
           {
            "colorbar": {
             "outlinewidth": 0,
             "tickcolor": "rgb(237,237,237)",
             "ticklen": 6,
             "ticks": "inside"
            },
            "colorscale": [
             [
              0,
              "rgb(20,44,66)"
             ],
             [
              1,
              "rgb(90,179,244)"
             ]
            ],
            "type": "heatmap"
           }
          ],
          "heatmapgl": [
           {
            "colorbar": {
             "outlinewidth": 0,
             "tickcolor": "rgb(237,237,237)",
             "ticklen": 6,
             "ticks": "inside"
            },
            "colorscale": [
             [
              0,
              "rgb(20,44,66)"
             ],
             [
              1,
              "rgb(90,179,244)"
             ]
            ],
            "type": "heatmapgl"
           }
          ],
          "histogram": [
           {
            "marker": {
             "pattern": {
              "fillmode": "overlay",
              "size": 10,
              "solidity": 0.2
             }
            },
            "type": "histogram"
           }
          ],
          "histogram2d": [
           {
            "colorbar": {
             "outlinewidth": 0,
             "tickcolor": "rgb(237,237,237)",
             "ticklen": 6,
             "ticks": "inside"
            },
            "colorscale": [
             [
              0,
              "rgb(20,44,66)"
             ],
             [
              1,
              "rgb(90,179,244)"
             ]
            ],
            "type": "histogram2d"
           }
          ],
          "histogram2dcontour": [
           {
            "colorbar": {
             "outlinewidth": 0,
             "tickcolor": "rgb(237,237,237)",
             "ticklen": 6,
             "ticks": "inside"
            },
            "colorscale": [
             [
              0,
              "rgb(20,44,66)"
             ],
             [
              1,
              "rgb(90,179,244)"
             ]
            ],
            "type": "histogram2dcontour"
           }
          ],
          "mesh3d": [
           {
            "colorbar": {
             "outlinewidth": 0,
             "tickcolor": "rgb(237,237,237)",
             "ticklen": 6,
             "ticks": "inside"
            },
            "type": "mesh3d"
           }
          ],
          "parcoords": [
           {
            "line": {
             "colorbar": {
              "outlinewidth": 0,
              "tickcolor": "rgb(237,237,237)",
              "ticklen": 6,
              "ticks": "inside"
             }
            },
            "type": "parcoords"
           }
          ],
          "pie": [
           {
            "automargin": true,
            "type": "pie"
           }
          ],
          "scatter": [
           {
            "fillpattern": {
             "fillmode": "overlay",
             "size": 10,
             "solidity": 0.2
            },
            "type": "scatter"
           }
          ],
          "scatter3d": [
           {
            "line": {
             "colorbar": {
              "outlinewidth": 0,
              "tickcolor": "rgb(237,237,237)",
              "ticklen": 6,
              "ticks": "inside"
             }
            },
            "marker": {
             "colorbar": {
              "outlinewidth": 0,
              "tickcolor": "rgb(237,237,237)",
              "ticklen": 6,
              "ticks": "inside"
             }
            },
            "type": "scatter3d"
           }
          ],
          "scattercarpet": [
           {
            "marker": {
             "colorbar": {
              "outlinewidth": 0,
              "tickcolor": "rgb(237,237,237)",
              "ticklen": 6,
              "ticks": "inside"
             }
            },
            "type": "scattercarpet"
           }
          ],
          "scattergeo": [
           {
            "marker": {
             "colorbar": {
              "outlinewidth": 0,
              "tickcolor": "rgb(237,237,237)",
              "ticklen": 6,
              "ticks": "inside"
             }
            },
            "type": "scattergeo"
           }
          ],
          "scattergl": [
           {
            "marker": {
             "colorbar": {
              "outlinewidth": 0,
              "tickcolor": "rgb(237,237,237)",
              "ticklen": 6,
              "ticks": "inside"
             }
            },
            "type": "scattergl"
           }
          ],
          "scattermapbox": [
           {
            "marker": {
             "colorbar": {
              "outlinewidth": 0,
              "tickcolor": "rgb(237,237,237)",
              "ticklen": 6,
              "ticks": "inside"
             }
            },
            "type": "scattermapbox"
           }
          ],
          "scatterpolar": [
           {
            "marker": {
             "colorbar": {
              "outlinewidth": 0,
              "tickcolor": "rgb(237,237,237)",
              "ticklen": 6,
              "ticks": "inside"
             }
            },
            "type": "scatterpolar"
           }
          ],
          "scatterpolargl": [
           {
            "marker": {
             "colorbar": {
              "outlinewidth": 0,
              "tickcolor": "rgb(237,237,237)",
              "ticklen": 6,
              "ticks": "inside"
             }
            },
            "type": "scatterpolargl"
           }
          ],
          "scatterternary": [
           {
            "marker": {
             "colorbar": {
              "outlinewidth": 0,
              "tickcolor": "rgb(237,237,237)",
              "ticklen": 6,
              "ticks": "inside"
             }
            },
            "type": "scatterternary"
           }
          ],
          "surface": [
           {
            "colorbar": {
             "outlinewidth": 0,
             "tickcolor": "rgb(237,237,237)",
             "ticklen": 6,
             "ticks": "inside"
            },
            "colorscale": [
             [
              0,
              "rgb(20,44,66)"
             ],
             [
              1,
              "rgb(90,179,244)"
             ]
            ],
            "type": "surface"
           }
          ],
          "table": [
           {
            "cells": {
             "fill": {
              "color": "rgb(237,237,237)"
             },
             "line": {
              "color": "white"
             }
            },
            "header": {
             "fill": {
              "color": "rgb(217,217,217)"
             },
             "line": {
              "color": "white"
             }
            },
            "type": "table"
           }
          ]
         },
         "layout": {
          "annotationdefaults": {
           "arrowhead": 0,
           "arrowwidth": 1
          },
          "autotypenumbers": "strict",
          "coloraxis": {
           "colorbar": {
            "outlinewidth": 0,
            "tickcolor": "rgb(237,237,237)",
            "ticklen": 6,
            "ticks": "inside"
           }
          },
          "colorscale": {
           "sequential": [
            [
             0,
             "rgb(20,44,66)"
            ],
            [
             1,
             "rgb(90,179,244)"
            ]
           ],
           "sequentialminus": [
            [
             0,
             "rgb(20,44,66)"
            ],
            [
             1,
             "rgb(90,179,244)"
            ]
           ]
          },
          "colorway": [
           "#F8766D",
           "#A3A500",
           "#00BF7D",
           "#00B0F6",
           "#E76BF3"
          ],
          "font": {
           "color": "rgb(51,51,51)"
          },
          "geo": {
           "bgcolor": "white",
           "lakecolor": "white",
           "landcolor": "rgb(237,237,237)",
           "showlakes": true,
           "showland": true,
           "subunitcolor": "white"
          },
          "hoverlabel": {
           "align": "left"
          },
          "hovermode": "closest",
          "paper_bgcolor": "white",
          "plot_bgcolor": "rgb(237,237,237)",
          "polar": {
           "angularaxis": {
            "gridcolor": "white",
            "linecolor": "white",
            "showgrid": true,
            "tickcolor": "rgb(51,51,51)",
            "ticks": "outside"
           },
           "bgcolor": "rgb(237,237,237)",
           "radialaxis": {
            "gridcolor": "white",
            "linecolor": "white",
            "showgrid": true,
            "tickcolor": "rgb(51,51,51)",
            "ticks": "outside"
           }
          },
          "scene": {
           "xaxis": {
            "backgroundcolor": "rgb(237,237,237)",
            "gridcolor": "white",
            "gridwidth": 2,
            "linecolor": "white",
            "showbackground": true,
            "showgrid": true,
            "tickcolor": "rgb(51,51,51)",
            "ticks": "outside",
            "zerolinecolor": "white"
           },
           "yaxis": {
            "backgroundcolor": "rgb(237,237,237)",
            "gridcolor": "white",
            "gridwidth": 2,
            "linecolor": "white",
            "showbackground": true,
            "showgrid": true,
            "tickcolor": "rgb(51,51,51)",
            "ticks": "outside",
            "zerolinecolor": "white"
           },
           "zaxis": {
            "backgroundcolor": "rgb(237,237,237)",
            "gridcolor": "white",
            "gridwidth": 2,
            "linecolor": "white",
            "showbackground": true,
            "showgrid": true,
            "tickcolor": "rgb(51,51,51)",
            "ticks": "outside",
            "zerolinecolor": "white"
           }
          },
          "shapedefaults": {
           "fillcolor": "black",
           "line": {
            "width": 0
           },
           "opacity": 0.3
          },
          "ternary": {
           "aaxis": {
            "gridcolor": "white",
            "linecolor": "white",
            "showgrid": true,
            "tickcolor": "rgb(51,51,51)",
            "ticks": "outside"
           },
           "baxis": {
            "gridcolor": "white",
            "linecolor": "white",
            "showgrid": true,
            "tickcolor": "rgb(51,51,51)",
            "ticks": "outside"
           },
           "bgcolor": "rgb(237,237,237)",
           "caxis": {
            "gridcolor": "white",
            "linecolor": "white",
            "showgrid": true,
            "tickcolor": "rgb(51,51,51)",
            "ticks": "outside"
           }
          },
          "xaxis": {
           "automargin": true,
           "gridcolor": "white",
           "linecolor": "white",
           "showgrid": true,
           "tickcolor": "rgb(51,51,51)",
           "ticks": "outside",
           "title": {
            "standoff": 15
           },
           "zerolinecolor": "white"
          },
          "yaxis": {
           "automargin": true,
           "gridcolor": "white",
           "linecolor": "white",
           "showgrid": true,
           "tickcolor": "rgb(51,51,51)",
           "ticks": "outside",
           "title": {
            "standoff": 15
           },
           "zerolinecolor": "white"
          }
         }
        },
        "title": {
         "text": "Average Unemployment Rate in each state"
        },
        "xaxis": {
         "anchor": "y",
         "categoryarray": [
          "Meghalaya",
          "Assam",
          "Gujarat",
          "Odisha",
          "Telangana",
          "Madhya Pradesh",
          "Karnataka",
          "Chhattisgarh",
          "Maharashtra",
          "Andhra Pradesh",
          "Kerala",
          "Uttar Pradesh",
          "Sikkim",
          "West Bengal",
          "Uttarakhand",
          "Punjab",
          "Goa",
          "Tamil Nadu",
          "Rajasthan",
          "Himachal Pradesh",
          "Jammu & Kashmir",
          "Puducherry",
          "Delhi",
          "Bihar",
          "Jharkhand",
          "Tripura",
          "Haryana"
         ],
         "categoryorder": "array",
         "domain": [
          0,
          1
         ],
         "title": {
          "text": "State"
         }
        },
        "yaxis": {
         "anchor": "x",
         "domain": [
          0,
          1
         ],
         "title": {
          "text": "Estimated unemployment rate"
         }
        }
       }
      },
      "text/html": [
       "<div>                            <div id=\"de81753c-6daf-4c8c-b199-682cfd408f8a\" class=\"plotly-graph-div\" style=\"height:525px; width:100%;\"></div>            <script type=\"text/javascript\">                require([\"plotly\"], function(Plotly) {                    window.PLOTLYENV=window.PLOTLYENV || {};                                    if (document.getElementById(\"de81753c-6daf-4c8c-b199-682cfd408f8a\")) {                    Plotly.newPlot(                        \"de81753c-6daf-4c8c-b199-682cfd408f8a\",                        [{\"alignmentgroup\":\"True\",\"hovertemplate\":\"State=%{x}\\u003cbr\\u003eEstimated unemployment rate=%{y}\\u003cextra\\u003e\\u003c\\u002fextra\\u003e\",\"legendgroup\":\"Meghalaya\",\"marker\":{\"color\":\"#F8766D\",\"pattern\":{\"shape\":\"\"}},\"name\":\"Meghalaya\",\"offsetgroup\":\"Meghalaya\",\"orientation\":\"v\",\"showlegend\":true,\"textposition\":\"auto\",\"x\":[\"Meghalaya\"],\"xaxis\":\"x\",\"y\":[3.8659999999999997],\"yaxis\":\"y\",\"type\":\"bar\"},{\"alignmentgroup\":\"True\",\"hovertemplate\":\"State=%{x}\\u003cbr\\u003eEstimated unemployment rate=%{y}\\u003cextra\\u003e\\u003c\\u002fextra\\u003e\",\"legendgroup\":\"Assam\",\"marker\":{\"color\":\"#A3A500\",\"pattern\":{\"shape\":\"\"}},\"name\":\"Assam\",\"offsetgroup\":\"Assam\",\"orientation\":\"v\",\"showlegend\":true,\"textposition\":\"auto\",\"x\":[\"Assam\"],\"xaxis\":\"x\",\"y\":[4.856],\"yaxis\":\"y\",\"type\":\"bar\"},{\"alignmentgroup\":\"True\",\"hovertemplate\":\"State=%{x}\\u003cbr\\u003eEstimated unemployment rate=%{y}\\u003cextra\\u003e\\u003c\\u002fextra\\u003e\",\"legendgroup\":\"Gujarat\",\"marker\":{\"color\":\"#00BF7D\",\"pattern\":{\"shape\":\"\"}},\"name\":\"Gujarat\",\"offsetgroup\":\"Gujarat\",\"orientation\":\"v\",\"showlegend\":true,\"textposition\":\"auto\",\"x\":[\"Gujarat\"],\"xaxis\":\"x\",\"y\":[6.3759999999999994],\"yaxis\":\"y\",\"type\":\"bar\"},{\"alignmentgroup\":\"True\",\"hovertemplate\":\"State=%{x}\\u003cbr\\u003eEstimated unemployment rate=%{y}\\u003cextra\\u003e\\u003c\\u002fextra\\u003e\",\"legendgroup\":\"Odisha\",\"marker\":{\"color\":\"#00B0F6\",\"pattern\":{\"shape\":\"\"}},\"name\":\"Odisha\",\"offsetgroup\":\"Odisha\",\"orientation\":\"v\",\"showlegend\":true,\"textposition\":\"auto\",\"x\":[\"Odisha\"],\"xaxis\":\"x\",\"y\":[6.462000000000001],\"yaxis\":\"y\",\"type\":\"bar\"},{\"alignmentgroup\":\"True\",\"hovertemplate\":\"State=%{x}\\u003cbr\\u003eEstimated unemployment rate=%{y}\\u003cextra\\u003e\\u003c\\u002fextra\\u003e\",\"legendgroup\":\"Telangana\",\"marker\":{\"color\":\"#E76BF3\",\"pattern\":{\"shape\":\"\"}},\"name\":\"Telangana\",\"offsetgroup\":\"Telangana\",\"orientation\":\"v\",\"showlegend\":true,\"textposition\":\"auto\",\"x\":[\"Telangana\"],\"xaxis\":\"x\",\"y\":[6.833],\"yaxis\":\"y\",\"type\":\"bar\"},{\"alignmentgroup\":\"True\",\"hovertemplate\":\"State=%{x}\\u003cbr\\u003eEstimated unemployment rate=%{y}\\u003cextra\\u003e\\u003c\\u002fextra\\u003e\",\"legendgroup\":\"Madhya Pradesh\",\"marker\":{\"color\":\"#F8766D\",\"pattern\":{\"shape\":\"\"}},\"name\":\"Madhya Pradesh\",\"offsetgroup\":\"Madhya Pradesh\",\"orientation\":\"v\",\"showlegend\":true,\"textposition\":\"auto\",\"x\":[\"Madhya Pradesh\"],\"xaxis\":\"x\",\"y\":[6.854000000000001],\"yaxis\":\"y\",\"type\":\"bar\"},{\"alignmentgroup\":\"True\",\"hovertemplate\":\"State=%{x}\\u003cbr\\u003eEstimated unemployment rate=%{y}\\u003cextra\\u003e\\u003c\\u002fextra\\u003e\",\"legendgroup\":\"Karnataka\",\"marker\":{\"color\":\"#A3A500\",\"pattern\":{\"shape\":\"\"}},\"name\":\"Karnataka\",\"offsetgroup\":\"Karnataka\",\"orientation\":\"v\",\"showlegend\":true,\"textposition\":\"auto\",\"x\":[\"Karnataka\"],\"xaxis\":\"x\",\"y\":[7.667999999999999],\"yaxis\":\"y\",\"type\":\"bar\"},{\"alignmentgroup\":\"True\",\"hovertemplate\":\"State=%{x}\\u003cbr\\u003eEstimated unemployment rate=%{y}\\u003cextra\\u003e\\u003c\\u002fextra\\u003e\",\"legendgroup\":\"Chhattisgarh\",\"marker\":{\"color\":\"#00BF7D\",\"pattern\":{\"shape\":\"\"}},\"name\":\"Chhattisgarh\",\"offsetgroup\":\"Chhattisgarh\",\"orientation\":\"v\",\"showlegend\":true,\"textposition\":\"auto\",\"x\":[\"Chhattisgarh\"],\"xaxis\":\"x\",\"y\":[7.819],\"yaxis\":\"y\",\"type\":\"bar\"},{\"alignmentgroup\":\"True\",\"hovertemplate\":\"State=%{x}\\u003cbr\\u003eEstimated unemployment rate=%{y}\\u003cextra\\u003e\\u003c\\u002fextra\\u003e\",\"legendgroup\":\"Maharashtra\",\"marker\":{\"color\":\"#00B0F6\",\"pattern\":{\"shape\":\"\"}},\"name\":\"Maharashtra\",\"offsetgroup\":\"Maharashtra\",\"orientation\":\"v\",\"showlegend\":true,\"textposition\":\"auto\",\"x\":[\"Maharashtra\"],\"xaxis\":\"x\",\"y\":[7.979000000000001],\"yaxis\":\"y\",\"type\":\"bar\"},{\"alignmentgroup\":\"True\",\"hovertemplate\":\"State=%{x}\\u003cbr\\u003eEstimated unemployment rate=%{y}\\u003cextra\\u003e\\u003c\\u002fextra\\u003e\",\"legendgroup\":\"Andhra Pradesh\",\"marker\":{\"color\":\"#E76BF3\",\"pattern\":{\"shape\":\"\"}},\"name\":\"Andhra Pradesh\",\"offsetgroup\":\"Andhra Pradesh\",\"orientation\":\"v\",\"showlegend\":true,\"textposition\":\"auto\",\"x\":[\"Andhra Pradesh\"],\"xaxis\":\"x\",\"y\":[8.664],\"yaxis\":\"y\",\"type\":\"bar\"},{\"alignmentgroup\":\"True\",\"hovertemplate\":\"State=%{x}\\u003cbr\\u003eEstimated unemployment rate=%{y}\\u003cextra\\u003e\\u003c\\u002fextra\\u003e\",\"legendgroup\":\"Kerala\",\"marker\":{\"color\":\"#F8766D\",\"pattern\":{\"shape\":\"\"}},\"name\":\"Kerala\",\"offsetgroup\":\"Kerala\",\"orientation\":\"v\",\"showlegend\":true,\"textposition\":\"auto\",\"x\":[\"Kerala\"],\"xaxis\":\"x\",\"y\":[9.434000000000001],\"yaxis\":\"y\",\"type\":\"bar\"},{\"alignmentgroup\":\"True\",\"hovertemplate\":\"State=%{x}\\u003cbr\\u003eEstimated unemployment rate=%{y}\\u003cextra\\u003e\\u003c\\u002fextra\\u003e\",\"legendgroup\":\"Uttar Pradesh\",\"marker\":{\"color\":\"#A3A500\",\"pattern\":{\"shape\":\"\"}},\"name\":\"Uttar Pradesh\",\"offsetgroup\":\"Uttar Pradesh\",\"orientation\":\"v\",\"showlegend\":true,\"textposition\":\"auto\",\"x\":[\"Uttar Pradesh\"],\"xaxis\":\"x\",\"y\":[9.737],\"yaxis\":\"y\",\"type\":\"bar\"},{\"alignmentgroup\":\"True\",\"hovertemplate\":\"State=%{x}\\u003cbr\\u003eEstimated unemployment rate=%{y}\\u003cextra\\u003e\\u003c\\u002fextra\\u003e\",\"legendgroup\":\"Sikkim\",\"marker\":{\"color\":\"#00BF7D\",\"pattern\":{\"shape\":\"\"}},\"name\":\"Sikkim\",\"offsetgroup\":\"Sikkim\",\"orientation\":\"v\",\"showlegend\":true,\"textposition\":\"auto\",\"x\":[\"Sikkim\"],\"xaxis\":\"x\",\"y\":[9.7925],\"yaxis\":\"y\",\"type\":\"bar\"},{\"alignmentgroup\":\"True\",\"hovertemplate\":\"State=%{x}\\u003cbr\\u003eEstimated unemployment rate=%{y}\\u003cextra\\u003e\\u003c\\u002fextra\\u003e\",\"legendgroup\":\"West Bengal\",\"marker\":{\"color\":\"#00B0F6\",\"pattern\":{\"shape\":\"\"}},\"name\":\"West Bengal\",\"offsetgroup\":\"West Bengal\",\"orientation\":\"v\",\"showlegend\":true,\"textposition\":\"auto\",\"x\":[\"West Bengal\"],\"xaxis\":\"x\",\"y\":[10.192],\"yaxis\":\"y\",\"type\":\"bar\"},{\"alignmentgroup\":\"True\",\"hovertemplate\":\"State=%{x}\\u003cbr\\u003eEstimated unemployment rate=%{y}\\u003cextra\\u003e\\u003c\\u002fextra\\u003e\",\"legendgroup\":\"Uttarakhand\",\"marker\":{\"color\":\"#E76BF3\",\"pattern\":{\"shape\":\"\"}},\"name\":\"Uttarakhand\",\"offsetgroup\":\"Uttarakhand\",\"orientation\":\"v\",\"showlegend\":true,\"textposition\":\"auto\",\"x\":[\"Uttarakhand\"],\"xaxis\":\"x\",\"y\":[11.156],\"yaxis\":\"y\",\"type\":\"bar\"},{\"alignmentgroup\":\"True\",\"hovertemplate\":\"State=%{x}\\u003cbr\\u003eEstimated unemployment rate=%{y}\\u003cextra\\u003e\\u003c\\u002fextra\\u003e\",\"legendgroup\":\"Punjab\",\"marker\":{\"color\":\"#F8766D\",\"pattern\":{\"shape\":\"\"}},\"name\":\"Punjab\",\"offsetgroup\":\"Punjab\",\"orientation\":\"v\",\"showlegend\":true,\"textposition\":\"auto\",\"x\":[\"Punjab\"],\"xaxis\":\"x\",\"y\":[11.981],\"yaxis\":\"y\",\"type\":\"bar\"},{\"alignmentgroup\":\"True\",\"hovertemplate\":\"State=%{x}\\u003cbr\\u003eEstimated unemployment rate=%{y}\\u003cextra\\u003e\\u003c\\u002fextra\\u003e\",\"legendgroup\":\"Goa\",\"marker\":{\"color\":\"#A3A500\",\"pattern\":{\"shape\":\"\"}},\"name\":\"Goa\",\"offsetgroup\":\"Goa\",\"orientation\":\"v\",\"showlegend\":true,\"textposition\":\"auto\",\"x\":[\"Goa\"],\"xaxis\":\"x\",\"y\":[12.167],\"yaxis\":\"y\",\"type\":\"bar\"},{\"alignmentgroup\":\"True\",\"hovertemplate\":\"State=%{x}\\u003cbr\\u003eEstimated unemployment rate=%{y}\\u003cextra\\u003e\\u003c\\u002fextra\\u003e\",\"legendgroup\":\"Tamil Nadu\",\"marker\":{\"color\":\"#00BF7D\",\"pattern\":{\"shape\":\"\"}},\"name\":\"Tamil Nadu\",\"offsetgroup\":\"Tamil Nadu\",\"orientation\":\"v\",\"showlegend\":true,\"textposition\":\"auto\",\"x\":[\"Tamil Nadu\"],\"xaxis\":\"x\",\"y\":[12.187],\"yaxis\":\"y\",\"type\":\"bar\"},{\"alignmentgroup\":\"True\",\"hovertemplate\":\"State=%{x}\\u003cbr\\u003eEstimated unemployment rate=%{y}\\u003cextra\\u003e\\u003c\\u002fextra\\u003e\",\"legendgroup\":\"Rajasthan\",\"marker\":{\"color\":\"#00B0F6\",\"pattern\":{\"shape\":\"\"}},\"name\":\"Rajasthan\",\"offsetgroup\":\"Rajasthan\",\"orientation\":\"v\",\"showlegend\":true,\"textposition\":\"auto\",\"x\":[\"Rajasthan\"],\"xaxis\":\"x\",\"y\":[15.868],\"yaxis\":\"y\",\"type\":\"bar\"},{\"alignmentgroup\":\"True\",\"hovertemplate\":\"State=%{x}\\u003cbr\\u003eEstimated unemployment rate=%{y}\\u003cextra\\u003e\\u003c\\u002fextra\\u003e\",\"legendgroup\":\"Himachal Pradesh\",\"marker\":{\"color\":\"#E76BF3\",\"pattern\":{\"shape\":\"\"}},\"name\":\"Himachal Pradesh\",\"offsetgroup\":\"Himachal Pradesh\",\"orientation\":\"v\",\"showlegend\":true,\"textposition\":\"auto\",\"x\":[\"Himachal Pradesh\"],\"xaxis\":\"x\",\"y\":[16.065],\"yaxis\":\"y\",\"type\":\"bar\"},{\"alignmentgroup\":\"True\",\"hovertemplate\":\"State=%{x}\\u003cbr\\u003eEstimated unemployment rate=%{y}\\u003cextra\\u003e\\u003c\\u002fextra\\u003e\",\"legendgroup\":\"Jammu & Kashmir\",\"marker\":{\"color\":\"#F8766D\",\"pattern\":{\"shape\":\"\"}},\"name\":\"Jammu & Kashmir\",\"offsetgroup\":\"Jammu & Kashmir\",\"orientation\":\"v\",\"showlegend\":true,\"textposition\":\"auto\",\"x\":[\"Jammu & Kashmir\"],\"xaxis\":\"x\",\"y\":[16.477777777777778],\"yaxis\":\"y\",\"type\":\"bar\"},{\"alignmentgroup\":\"True\",\"hovertemplate\":\"State=%{x}\\u003cbr\\u003eEstimated unemployment rate=%{y}\\u003cextra\\u003e\\u003c\\u002fextra\\u003e\",\"legendgroup\":\"Puducherry\",\"marker\":{\"color\":\"#A3A500\",\"pattern\":{\"shape\":\"\"}},\"name\":\"Puducherry\",\"offsetgroup\":\"Puducherry\",\"orientation\":\"v\",\"showlegend\":true,\"textposition\":\"auto\",\"x\":[\"Puducherry\"],\"xaxis\":\"x\",\"y\":[17.942],\"yaxis\":\"y\",\"type\":\"bar\"},{\"alignmentgroup\":\"True\",\"hovertemplate\":\"State=%{x}\\u003cbr\\u003eEstimated unemployment rate=%{y}\\u003cextra\\u003e\\u003c\\u002fextra\\u003e\",\"legendgroup\":\"Delhi\",\"marker\":{\"color\":\"#00BF7D\",\"pattern\":{\"shape\":\"\"}},\"name\":\"Delhi\",\"offsetgroup\":\"Delhi\",\"orientation\":\"v\",\"showlegend\":true,\"textposition\":\"auto\",\"x\":[\"Delhi\"],\"xaxis\":\"x\",\"y\":[18.414],\"yaxis\":\"y\",\"type\":\"bar\"},{\"alignmentgroup\":\"True\",\"hovertemplate\":\"State=%{x}\\u003cbr\\u003eEstimated unemployment rate=%{y}\\u003cextra\\u003e\\u003c\\u002fextra\\u003e\",\"legendgroup\":\"Bihar\",\"marker\":{\"color\":\"#00B0F6\",\"pattern\":{\"shape\":\"\"}},\"name\":\"Bihar\",\"offsetgroup\":\"Bihar\",\"orientation\":\"v\",\"showlegend\":true,\"textposition\":\"auto\",\"x\":[\"Bihar\"],\"xaxis\":\"x\",\"y\":[19.471],\"yaxis\":\"y\",\"type\":\"bar\"},{\"alignmentgroup\":\"True\",\"hovertemplate\":\"State=%{x}\\u003cbr\\u003eEstimated unemployment rate=%{y}\\u003cextra\\u003e\\u003c\\u002fextra\\u003e\",\"legendgroup\":\"Jharkhand\",\"marker\":{\"color\":\"#E76BF3\",\"pattern\":{\"shape\":\"\"}},\"name\":\"Jharkhand\",\"offsetgroup\":\"Jharkhand\",\"orientation\":\"v\",\"showlegend\":true,\"textposition\":\"auto\",\"x\":[\"Jharkhand\"],\"xaxis\":\"x\",\"y\":[19.538999999999998],\"yaxis\":\"y\",\"type\":\"bar\"},{\"alignmentgroup\":\"True\",\"hovertemplate\":\"State=%{x}\\u003cbr\\u003eEstimated unemployment rate=%{y}\\u003cextra\\u003e\\u003c\\u002fextra\\u003e\",\"legendgroup\":\"Tripura\",\"marker\":{\"color\":\"#F8766D\",\"pattern\":{\"shape\":\"\"}},\"name\":\"Tripura\",\"offsetgroup\":\"Tripura\",\"orientation\":\"v\",\"showlegend\":true,\"textposition\":\"auto\",\"x\":[\"Tripura\"],\"xaxis\":\"x\",\"y\":[25.055],\"yaxis\":\"y\",\"type\":\"bar\"},{\"alignmentgroup\":\"True\",\"hovertemplate\":\"State=%{x}\\u003cbr\\u003eEstimated unemployment rate=%{y}\\u003cextra\\u003e\\u003c\\u002fextra\\u003e\",\"legendgroup\":\"Haryana\",\"marker\":{\"color\":\"#A3A500\",\"pattern\":{\"shape\":\"\"}},\"name\":\"Haryana\",\"offsetgroup\":\"Haryana\",\"orientation\":\"v\",\"showlegend\":true,\"textposition\":\"auto\",\"x\":[\"Haryana\"],\"xaxis\":\"x\",\"y\":[27.476999999999997],\"yaxis\":\"y\",\"type\":\"bar\"}],                        {\"template\":{\"data\":{\"barpolar\":[{\"marker\":{\"line\":{\"color\":\"rgb(237,237,237)\",\"width\":0.5},\"pattern\":{\"fillmode\":\"overlay\",\"size\":10,\"solidity\":0.2}},\"type\":\"barpolar\"}],\"bar\":[{\"error_x\":{\"color\":\"rgb(51,51,51)\"},\"error_y\":{\"color\":\"rgb(51,51,51)\"},\"marker\":{\"line\":{\"color\":\"rgb(237,237,237)\",\"width\":0.5},\"pattern\":{\"fillmode\":\"overlay\",\"size\":10,\"solidity\":0.2}},\"type\":\"bar\"}],\"carpet\":[{\"aaxis\":{\"endlinecolor\":\"rgb(51,51,51)\",\"gridcolor\":\"white\",\"linecolor\":\"white\",\"minorgridcolor\":\"white\",\"startlinecolor\":\"rgb(51,51,51)\"},\"baxis\":{\"endlinecolor\":\"rgb(51,51,51)\",\"gridcolor\":\"white\",\"linecolor\":\"white\",\"minorgridcolor\":\"white\",\"startlinecolor\":\"rgb(51,51,51)\"},\"type\":\"carpet\"}],\"choropleth\":[{\"colorbar\":{\"outlinewidth\":0,\"tickcolor\":\"rgb(237,237,237)\",\"ticklen\":6,\"ticks\":\"inside\"},\"type\":\"choropleth\"}],\"contourcarpet\":[{\"colorbar\":{\"outlinewidth\":0,\"tickcolor\":\"rgb(237,237,237)\",\"ticklen\":6,\"ticks\":\"inside\"},\"type\":\"contourcarpet\"}],\"contour\":[{\"colorbar\":{\"outlinewidth\":0,\"tickcolor\":\"rgb(237,237,237)\",\"ticklen\":6,\"ticks\":\"inside\"},\"colorscale\":[[0,\"rgb(20,44,66)\"],[1,\"rgb(90,179,244)\"]],\"type\":\"contour\"}],\"heatmapgl\":[{\"colorbar\":{\"outlinewidth\":0,\"tickcolor\":\"rgb(237,237,237)\",\"ticklen\":6,\"ticks\":\"inside\"},\"colorscale\":[[0,\"rgb(20,44,66)\"],[1,\"rgb(90,179,244)\"]],\"type\":\"heatmapgl\"}],\"heatmap\":[{\"colorbar\":{\"outlinewidth\":0,\"tickcolor\":\"rgb(237,237,237)\",\"ticklen\":6,\"ticks\":\"inside\"},\"colorscale\":[[0,\"rgb(20,44,66)\"],[1,\"rgb(90,179,244)\"]],\"type\":\"heatmap\"}],\"histogram2dcontour\":[{\"colorbar\":{\"outlinewidth\":0,\"tickcolor\":\"rgb(237,237,237)\",\"ticklen\":6,\"ticks\":\"inside\"},\"colorscale\":[[0,\"rgb(20,44,66)\"],[1,\"rgb(90,179,244)\"]],\"type\":\"histogram2dcontour\"}],\"histogram2d\":[{\"colorbar\":{\"outlinewidth\":0,\"tickcolor\":\"rgb(237,237,237)\",\"ticklen\":6,\"ticks\":\"inside\"},\"colorscale\":[[0,\"rgb(20,44,66)\"],[1,\"rgb(90,179,244)\"]],\"type\":\"histogram2d\"}],\"histogram\":[{\"marker\":{\"pattern\":{\"fillmode\":\"overlay\",\"size\":10,\"solidity\":0.2}},\"type\":\"histogram\"}],\"mesh3d\":[{\"colorbar\":{\"outlinewidth\":0,\"tickcolor\":\"rgb(237,237,237)\",\"ticklen\":6,\"ticks\":\"inside\"},\"type\":\"mesh3d\"}],\"parcoords\":[{\"line\":{\"colorbar\":{\"outlinewidth\":0,\"tickcolor\":\"rgb(237,237,237)\",\"ticklen\":6,\"ticks\":\"inside\"}},\"type\":\"parcoords\"}],\"pie\":[{\"automargin\":true,\"type\":\"pie\"}],\"scatter3d\":[{\"line\":{\"colorbar\":{\"outlinewidth\":0,\"tickcolor\":\"rgb(237,237,237)\",\"ticklen\":6,\"ticks\":\"inside\"}},\"marker\":{\"colorbar\":{\"outlinewidth\":0,\"tickcolor\":\"rgb(237,237,237)\",\"ticklen\":6,\"ticks\":\"inside\"}},\"type\":\"scatter3d\"}],\"scattercarpet\":[{\"marker\":{\"colorbar\":{\"outlinewidth\":0,\"tickcolor\":\"rgb(237,237,237)\",\"ticklen\":6,\"ticks\":\"inside\"}},\"type\":\"scattercarpet\"}],\"scattergeo\":[{\"marker\":{\"colorbar\":{\"outlinewidth\":0,\"tickcolor\":\"rgb(237,237,237)\",\"ticklen\":6,\"ticks\":\"inside\"}},\"type\":\"scattergeo\"}],\"scattergl\":[{\"marker\":{\"colorbar\":{\"outlinewidth\":0,\"tickcolor\":\"rgb(237,237,237)\",\"ticklen\":6,\"ticks\":\"inside\"}},\"type\":\"scattergl\"}],\"scattermapbox\":[{\"marker\":{\"colorbar\":{\"outlinewidth\":0,\"tickcolor\":\"rgb(237,237,237)\",\"ticklen\":6,\"ticks\":\"inside\"}},\"type\":\"scattermapbox\"}],\"scatterpolargl\":[{\"marker\":{\"colorbar\":{\"outlinewidth\":0,\"tickcolor\":\"rgb(237,237,237)\",\"ticklen\":6,\"ticks\":\"inside\"}},\"type\":\"scatterpolargl\"}],\"scatterpolar\":[{\"marker\":{\"colorbar\":{\"outlinewidth\":0,\"tickcolor\":\"rgb(237,237,237)\",\"ticklen\":6,\"ticks\":\"inside\"}},\"type\":\"scatterpolar\"}],\"scatter\":[{\"fillpattern\":{\"fillmode\":\"overlay\",\"size\":10,\"solidity\":0.2},\"type\":\"scatter\"}],\"scatterternary\":[{\"marker\":{\"colorbar\":{\"outlinewidth\":0,\"tickcolor\":\"rgb(237,237,237)\",\"ticklen\":6,\"ticks\":\"inside\"}},\"type\":\"scatterternary\"}],\"surface\":[{\"colorbar\":{\"outlinewidth\":0,\"tickcolor\":\"rgb(237,237,237)\",\"ticklen\":6,\"ticks\":\"inside\"},\"colorscale\":[[0,\"rgb(20,44,66)\"],[1,\"rgb(90,179,244)\"]],\"type\":\"surface\"}],\"table\":[{\"cells\":{\"fill\":{\"color\":\"rgb(237,237,237)\"},\"line\":{\"color\":\"white\"}},\"header\":{\"fill\":{\"color\":\"rgb(217,217,217)\"},\"line\":{\"color\":\"white\"}},\"type\":\"table\"}]},\"layout\":{\"annotationdefaults\":{\"arrowhead\":0,\"arrowwidth\":1},\"autotypenumbers\":\"strict\",\"coloraxis\":{\"colorbar\":{\"outlinewidth\":0,\"tickcolor\":\"rgb(237,237,237)\",\"ticklen\":6,\"ticks\":\"inside\"}},\"colorscale\":{\"sequential\":[[0,\"rgb(20,44,66)\"],[1,\"rgb(90,179,244)\"]],\"sequentialminus\":[[0,\"rgb(20,44,66)\"],[1,\"rgb(90,179,244)\"]]},\"colorway\":[\"#F8766D\",\"#A3A500\",\"#00BF7D\",\"#00B0F6\",\"#E76BF3\"],\"font\":{\"color\":\"rgb(51,51,51)\"},\"geo\":{\"bgcolor\":\"white\",\"lakecolor\":\"white\",\"landcolor\":\"rgb(237,237,237)\",\"showlakes\":true,\"showland\":true,\"subunitcolor\":\"white\"},\"hoverlabel\":{\"align\":\"left\"},\"hovermode\":\"closest\",\"paper_bgcolor\":\"white\",\"plot_bgcolor\":\"rgb(237,237,237)\",\"polar\":{\"angularaxis\":{\"gridcolor\":\"white\",\"linecolor\":\"white\",\"showgrid\":true,\"tickcolor\":\"rgb(51,51,51)\",\"ticks\":\"outside\"},\"bgcolor\":\"rgb(237,237,237)\",\"radialaxis\":{\"gridcolor\":\"white\",\"linecolor\":\"white\",\"showgrid\":true,\"tickcolor\":\"rgb(51,51,51)\",\"ticks\":\"outside\"}},\"scene\":{\"xaxis\":{\"backgroundcolor\":\"rgb(237,237,237)\",\"gridcolor\":\"white\",\"gridwidth\":2,\"linecolor\":\"white\",\"showbackground\":true,\"showgrid\":true,\"tickcolor\":\"rgb(51,51,51)\",\"ticks\":\"outside\",\"zerolinecolor\":\"white\"},\"yaxis\":{\"backgroundcolor\":\"rgb(237,237,237)\",\"gridcolor\":\"white\",\"gridwidth\":2,\"linecolor\":\"white\",\"showbackground\":true,\"showgrid\":true,\"tickcolor\":\"rgb(51,51,51)\",\"ticks\":\"outside\",\"zerolinecolor\":\"white\"},\"zaxis\":{\"backgroundcolor\":\"rgb(237,237,237)\",\"gridcolor\":\"white\",\"gridwidth\":2,\"linecolor\":\"white\",\"showbackground\":true,\"showgrid\":true,\"tickcolor\":\"rgb(51,51,51)\",\"ticks\":\"outside\",\"zerolinecolor\":\"white\"}},\"shapedefaults\":{\"fillcolor\":\"black\",\"line\":{\"width\":0},\"opacity\":0.3},\"ternary\":{\"aaxis\":{\"gridcolor\":\"white\",\"linecolor\":\"white\",\"showgrid\":true,\"tickcolor\":\"rgb(51,51,51)\",\"ticks\":\"outside\"},\"baxis\":{\"gridcolor\":\"white\",\"linecolor\":\"white\",\"showgrid\":true,\"tickcolor\":\"rgb(51,51,51)\",\"ticks\":\"outside\"},\"bgcolor\":\"rgb(237,237,237)\",\"caxis\":{\"gridcolor\":\"white\",\"linecolor\":\"white\",\"showgrid\":true,\"tickcolor\":\"rgb(51,51,51)\",\"ticks\":\"outside\"}},\"xaxis\":{\"automargin\":true,\"gridcolor\":\"white\",\"linecolor\":\"white\",\"showgrid\":true,\"tickcolor\":\"rgb(51,51,51)\",\"ticks\":\"outside\",\"title\":{\"standoff\":15},\"zerolinecolor\":\"white\"},\"yaxis\":{\"automargin\":true,\"gridcolor\":\"white\",\"linecolor\":\"white\",\"showgrid\":true,\"tickcolor\":\"rgb(51,51,51)\",\"ticks\":\"outside\",\"title\":{\"standoff\":15},\"zerolinecolor\":\"white\"}}},\"xaxis\":{\"anchor\":\"y\",\"domain\":[0.0,1.0],\"title\":{\"text\":\"State\"},\"categoryorder\":\"array\",\"categoryarray\":[\"Meghalaya\",\"Assam\",\"Gujarat\",\"Odisha\",\"Telangana\",\"Madhya Pradesh\",\"Karnataka\",\"Chhattisgarh\",\"Maharashtra\",\"Andhra Pradesh\",\"Kerala\",\"Uttar Pradesh\",\"Sikkim\",\"West Bengal\",\"Uttarakhand\",\"Punjab\",\"Goa\",\"Tamil Nadu\",\"Rajasthan\",\"Himachal Pradesh\",\"Jammu & Kashmir\",\"Puducherry\",\"Delhi\",\"Bihar\",\"Jharkhand\",\"Tripura\",\"Haryana\"]},\"yaxis\":{\"anchor\":\"x\",\"domain\":[0.0,1.0],\"title\":{\"text\":\"Estimated unemployment rate\"}},\"legend\":{\"title\":{\"text\":\"State\"},\"tracegroupgap\":0},\"title\":{\"text\":\"Average Unemployment Rate in each state\"},\"barmode\":\"relative\"},                        {\"responsive\": true}                    ).then(function(){\n",
       "                            \n",
       "var gd = document.getElementById('de81753c-6daf-4c8c-b199-682cfd408f8a');\n",
       "var x = new MutationObserver(function (mutations, observer) {{\n",
       "        var display = window.getComputedStyle(gd).display;\n",
       "        if (!display || display === 'none') {{\n",
       "            console.log([gd, 'removed!']);\n",
       "            Plotly.purge(gd);\n",
       "            observer.disconnect();\n",
       "        }}\n",
       "}});\n",
       "\n",
       "// Listen for the removal of the full notebook cells\n",
       "var notebookContainer = gd.closest('#notebook-container');\n",
       "if (notebookContainer) {{\n",
       "    x.observe(notebookContainer, {childList: true});\n",
       "}}\n",
       "\n",
       "// Listen for the clearing of the current output cell\n",
       "var outputEl = gd.closest('.output');\n",
       "if (outputEl) {{\n",
       "    x.observe(outputEl, {childList: true});\n",
       "}}\n",
       "\n",
       "                        })                };                });            </script>        </div>"
      ]
     },
     "metadata": {},
     "output_type": "display_data"
    }
   ],
   "source": [
<<<<<<< HEAD
    "abel = \"getachewu\""
=======
    "#average unemployment rate for each state\n",
    "plot_unemployment_rate = df[['Estimated unemployment rate', 'State']]\n",
    "df_unemployment_rate = plot_unemployment_rate.groupby('State').mean().reset_index()\n",
    "df_unemployment_rate = df_unemployment_rate.sort_values('Estimated unemployment rate')\n",
    "fig = px.bar(df_unemployment_rate, x='State', y='Estimated unemployment rate', color='State',\n",
    "             title='Average Unemployment Rate in each state', template=\"ggplot2\")\n",
    "fig.show()"
>>>>>>> testable
   ]
  }
 ],
 "metadata": {
  "kernelspec": {
   "display_name": "machine_l",
   "language": "python",
   "name": "python3"
  },
  "language_info": {
   "codemirror_mode": {
    "name": "ipython",
    "version": 3
   },
   "file_extension": ".py",
   "mimetype": "text/x-python",
   "name": "python",
   "nbconvert_exporter": "python",
   "pygments_lexer": "ipython3",
   "version": "3.11.5"
  },
  "orig_nbformat": 4
 },
 "nbformat": 4,
 "nbformat_minor": 2
}
